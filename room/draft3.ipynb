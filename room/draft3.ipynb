{
 "cells": [
  {
   "cell_type": "markdown",
   "id": "c50ab3ac",
   "metadata": {},
   "source": [
    "# Perspective spaces"
   ]
  },
  {
   "cell_type": "markdown",
   "id": "362abd71",
   "metadata": {},
   "source": [
    "## Basic setup"
   ]
  },
  {
   "cell_type": "markdown",
   "id": "7727d14e",
   "metadata": {},
   "source": [
    "Utils"
   ]
  },
  {
   "cell_type": "code",
   "execution_count": 1,
   "id": "39bf9d6c",
   "metadata": {},
   "outputs": [],
   "source": [
    "from PIL import Image, ImageFont\n",
    "\n",
    "\n",
    "class Depiction:\n",
    "    def __init__(self, layer, style, subject, img_src):\n",
    "        self.layer = layer\n",
    "        self.style = style\n",
    "        self.subject = subject\n",
    "        \n",
    "        self.resize_ratio = 0\n",
    "        self.x = None\n",
    "        self.y = None\n",
    "        self.w = None\n",
    "        self.h = None\n",
    "        \n",
    "        self.img_src = img_src\n",
    "        self.img = Image.open(img_src)\n",
    "        \n",
    "    def __str__(self):\n",
    "        return \"{} {} (layer {})\".format(self.style, self.subject, self.layer)\n",
    "    \n",
    "    def __repr__(self):\n",
    "        return \"{} {} (layer {})\".format(self.style, self.subject, self.layer)\n",
    "    \n",
    "    def update_size(self, w, h):\n",
    "        self.w = w\n",
    "        self.h = h\n",
    "        self.img = self.img.resize((w, h))"
   ]
  },
  {
   "cell_type": "code",
   "execution_count": 2,
   "id": "e0422965",
   "metadata": {},
   "outputs": [],
   "source": [
    "def draw_rect(img, pos1, pos2, color=\"grey\"):\n",
    "    x1, y1 = pos1  \n",
    "    x2, y2 = pos2\n",
    "    img_border = ImageDraw.Draw(img) \n",
    "    shape = [(x1, y1), (x2, y2)]\n",
    "    img_border.rectangle(shape, outline=color, width=80)\n",
    "    \n",
    "def draw_text(img, pos, text):\n",
    "    x, y = pos\n",
    "    draw = ImageDraw.Draw(img)\n",
    "    font = ImageFont.truetype(\"Gidole-Regular.ttf\", size=100)\n",
    "    draw.text((x, y), text, font = font, align =\"left\", fill=\"black\") \n",
    "    \n",
    "def is_collided(rect1, rect2):\n",
    "    x1, y1, w1, h1 = rect1\n",
    "    x2, y2, w2, h2 = rect2\n",
    "    \n",
    "    c1 = np.array([x1 + w1/2, y1 + h1/2])\n",
    "    c2 = np.array([x2 + w2/2, y2 + h2/2])\n",
    "\n",
    "    dx = np.abs(c1 - c2)[0]\n",
    "    dy = np.abs(c1 - c2)[1]\n",
    "        \n",
    "    return dx < (w1/2 + w2/2) and dy < (h1/2 + h2/2)"
   ]
  },
  {
   "cell_type": "code",
   "execution_count": 3,
   "id": "1d8c878c",
   "metadata": {},
   "outputs": [],
   "source": [
    "def save_img(img, fpath, save_ratio=1):\n",
    "    w, h = img.size\n",
    "    resized = img.resize((int(w*save_ratio), int(h*save_ratio)))\n",
    "    resized.save(fpath)"
   ]
  },
  {
   "cell_type": "markdown",
   "id": "ba7d0d40",
   "metadata": {},
   "source": [
    "Load depictions from image files"
   ]
  },
  {
   "cell_type": "code",
   "execution_count": 4,
   "id": "2978c40d",
   "metadata": {},
   "outputs": [],
   "source": [
    "# load all images\n",
    "import os\n",
    "\n",
    "\n",
    "depictions = []\n",
    "\n",
    "for dir, subdirs, files in os.walk('./'):\n",
    "    if \"output\" in dir: \n",
    "        continue\n",
    "    if not subdirs and not dir.startswith(\"./.\"):\n",
    "        for file in files:\n",
    "            # print(os.path.join(dir, file))\n",
    "            layer = int(dir[-1])\n",
    "            style = file.replace(\".png\", \"\").split(\",\")[-1].replace(\"art\", \"\").strip()\n",
    "            \n",
    "            if \"ukiyo-e\" in file:\n",
    "                subject = file.split(\"-\")[-2].split(\",\")[0].strip()\n",
    "            else:\n",
    "                subject = file.split(\"-\")[-1].split(\",\")[0].strip()\n",
    "\n",
    "            depiction = Depiction(layer, style, subject, os.path.join(dir, file))\n",
    "            depictions.append(depiction)"
   ]
  },
  {
   "cell_type": "code",
   "execution_count": 5,
   "id": "c8fc560c",
   "metadata": {},
   "outputs": [],
   "source": [
    "depictions = sorted(depictions, key=lambda x: x.layer, reverse=False)"
   ]
  },
  {
   "cell_type": "code",
   "execution_count": 6,
   "id": "01e48c83",
   "metadata": {},
   "outputs": [
    {
     "data": {
      "text/plain": [
       "111"
      ]
     },
     "execution_count": 6,
     "metadata": {},
     "output_type": "execute_result"
    }
   ],
   "source": [
    "len(depictions)"
   ]
  },
  {
   "cell_type": "markdown",
   "id": "f729ff4d",
   "metadata": {},
   "source": [
    "## Image creation"
   ]
  },
  {
   "cell_type": "markdown",
   "id": "21c0b82e",
   "metadata": {},
   "source": [
    "First, make an empty canvas\n",
    "\n",
    "A1 in pixels is: 7,016 x 9,933"
   ]
  },
  {
   "cell_type": "code",
   "execution_count": 7,
   "id": "3b0dbbb3",
   "metadata": {},
   "outputs": [],
   "source": [
    "from PIL import Image, ImageDraw\n",
    "\n",
    "WIDTH = 7016\n",
    "HEIGHT = 9933\n",
    "\n",
    "img = Image.new(\"RGB\", (WIDTH, HEIGHT), (255, 255, 255))"
   ]
  },
  {
   "cell_type": "markdown",
   "id": "cd78b604",
   "metadata": {},
   "source": [
    "### Add the layers"
   ]
  },
  {
   "cell_type": "code",
   "execution_count": 8,
   "id": "e310809d",
   "metadata": {},
   "outputs": [],
   "source": [
    "import random\n",
    "from tqdm.auto import tqdm\n",
    "import numpy as np\n",
    "\n",
    "\n",
    "RANDOM_SEED = 5\n",
    "RESIZE_FACTOR = 1.2\n",
    "MIDDLE_LAYER = 2.5\n",
    "SHIFT = 0.05\n",
    "ZONE_PORTION = 0.25\n",
    "PLACEMENT_RANDOM_PERTURB = 0\n",
    "SAVE_RATIO = 1\n",
    "\n",
    "WIDTH_INNER = 1770\n",
    "HEIGHT_INNER = 1770\n",
    "\n",
    "inner_center_x = WIDTH_INNER / 2\n",
    "outer_center_x = WIDTH / 2\n",
    "inner_center_y = HEIGHT_INNER / 2\n",
    "outer_center_y = HEIGHT / 2\n",
    "random.seed(RANDOM_SEED)"
   ]
  },
  {
   "cell_type": "code",
   "execution_count": 9,
   "id": "045625f7",
   "metadata": {},
   "outputs": [],
   "source": [
    "img_inner = Image.new(\"RGB\", (WIDTH_INNER, HEIGHT_INNER), (255, 255, 255))\n",
    "\n",
    "\n",
    "def draw_layer(base_img, layers):\n",
    "    def place_depiction(image, depiction, zone):\n",
    "        # assign random position in a center square\n",
    "        center_size = 500\n",
    "        x = int(WIDTH/2 + random.randint(-center_size, center_size)) #random.randint(0, WIDTH) #\n",
    "        y = int(HEIGHT/2 + random.randint(-center_size, center_size)) #random.randint(0, HEIGHT) #\n",
    "\n",
    "        # define the no-go zone\n",
    "        zone_width = int(depiction.w * ZONE_PORTION) * zone\n",
    "        zone_height = int(depiction.h * ZONE_PORTION) * zone\n",
    "\n",
    "        no_go_zone_x, no_go_zone_y = WIDTH/2 - WIDTH_INNER/2 - zone_width, HEIGHT/2 - HEIGHT_INNER/2 - zone_height\n",
    "        no_go_zone_w, no_go_zone_h = WIDTH_INNER + zone_width*2, HEIGHT_INNER + zone_height*2\n",
    "        no_go_zone = (no_go_zone_x, no_go_zone_y, no_go_zone_w, no_go_zone_h)\n",
    "#         draw_rect(image, (no_go_zone_x, no_go_zone_y), (no_go_zone_x+no_go_zone_w, no_go_zone_y+no_go_zone_h), \"green\")\n",
    "\n",
    "        # push out from no-go zone in random directions with random speed \n",
    "        direction = random.uniform(-1, 1), random.uniform(-1, 1)\n",
    "        speed = 300\n",
    "\n",
    "        depiction_rect = (x,y, depiction.w, depiction.h)\n",
    "        while is_collided(depiction_rect, no_go_zone):\n",
    "            x += direction[0] * speed\n",
    "            y += direction[1] * speed\n",
    "            depiction_rect = (x,y, depiction.w, depiction.h)\n",
    "            \n",
    "        # once outside, perturb randomly for more natural look\n",
    "        x += PLACEMENT_RANDOM_PERTURB * random.uniform(-depiction.w, depiction.h)\n",
    "        y += PLACEMENT_RANDOM_PERTURB * random.uniform(-depiction.h, depiction.h)\n",
    "        return x, y\n",
    "    \n",
    "    middle_frame = len(layers) // 2 + 1\n",
    "    print(\"Middle frame:\", middle_frame)\n",
    "    \n",
    "    inner_image = Image.new(\"RGB\", (WIDTH_INNER, HEIGHT_INNER), (255, 255, 255))\n",
    "    for current_frame, _ in enumerate(tqdm(layers)):\n",
    "        image = base_img.copy()\n",
    "\n",
    "        # draw up to the layer corresponding to current frame\n",
    "        for layer_no, layer in enumerate(layers[:current_frame+1]):\n",
    "            for i, depiction in enumerate(layer):\n",
    "                if depiction.layer == 1:\n",
    "                    continue\n",
    "                    \n",
    "                # resize\n",
    "                if not depiction.w or not depiction.h:\n",
    "                    \n",
    "                    resize_ratio = (RESIZE_FACTOR*random.uniform(0.98, 1.02))**(depiction.layer - MIDDLE_LAYER)\n",
    "                    depiction.resize_ratio = resize_ratio\n",
    "                    orig_w, orig_h = int(WIDTH_INNER/3), int(HEIGHT_INNER/3)\n",
    "                    depiction.update_size(int(orig_w * resize_ratio), int(orig_h * resize_ratio))\n",
    "                    \n",
    "                # position\n",
    "                if not depiction.x or not depiction.y:\n",
    "                    # if not previously placed, place \n",
    "                    x, y = place_depiction(image, depiction, depiction.layer - 2)\n",
    "                    center_offset = (middle_frame - current_frame)* ((depiction.layer-MIDDLE_LAYER) * depiction.w * SHIFT)\n",
    "                    depiction.x = x + center_offset\n",
    "                    depiction.y = y\n",
    "                else:\n",
    "                    # else, apply parallax effect\n",
    "                    depiction.x += (MIDDLE_LAYER-depiction.layer) * SHIFT * depiction.w \n",
    "\n",
    "                image.paste(depiction.img, (int(depiction.x), int(depiction.y)))\n",
    "                # draw_text(img, (x,y), str(depiction))\n",
    "            \n",
    "            if layer_no <= middle_frame:\n",
    "                if current_frame != 0:\n",
    "                    layer_ones = [d for d in layers[1] if d.layer == 1 and d.subject != \"dog\"]\n",
    "                    center_piece = [d for d in layers[1] if d.layer == 1 and d.subject == \"dog\"][0]\n",
    "\n",
    "                    layer_ones.insert(4, center_piece)\n",
    "\n",
    "                    for i, depiction in enumerate(layer_ones):\n",
    "                        im = depiction.img\n",
    "                        im = im.resize((int(WIDTH_INNER/3), int(HEIGHT_INNER/3)))\n",
    "                        depiction.x = int(i % 3 * WIDTH_INNER/3)\n",
    "                        depiction.y = int(i // 3 * HEIGHT_INNER/3)\n",
    "                        inner_image.paste(im, (depiction.x, depiction.y))\n",
    "                draw_rect(inner_image, (0,0), (WIDTH_INNER, HEIGHT_INNER), \"red\")\n",
    "                image.paste(inner_image,\n",
    "                        (int(outer_center_x - inner_center_x), \n",
    "                        int(outer_center_y - inner_center_y)))\n",
    "        \n",
    "        # Lastly, draw outer border and save\n",
    "        draw_rect(image, (0,0), (WIDTH, HEIGHT), \"#4472c4\")\n",
    "        container_dir = \"output{}\".format(RANDOM_SEED)\n",
    "        for folder in [container_dir, container_dir + \"/full_size\", container_dir + \"/small_size\"]:\n",
    "            if not os.path.isdir(folder):\n",
    "                os.mkdir(folder)\n",
    "        save_img(image, \"output{}/full_size/{}.jpg\".format(RANDOM_SEED, current_frame), save_ratio=SAVE_RATIO)\n",
    "        save_img(image, \"output{}/small_size/{}.jpg\".format(RANDOM_SEED, current_frame), save_ratio=0.2)"
   ]
  },
  {
   "cell_type": "code",
   "execution_count": 10,
   "id": "94f2fd14",
   "metadata": {},
   "outputs": [],
   "source": [
    "layers = []\n",
    "for i in range(11):\n",
    "    layer = [d for d in depictions if d.layer == i]\n",
    "    layers.append(layer)"
   ]
  },
  {
   "cell_type": "code",
   "execution_count": null,
   "id": "6ab24b5c",
   "metadata": {},
   "outputs": [
    {
     "name": "stdout",
     "output_type": "stream",
     "text": [
      "Middle frame: 6\n"
     ]
    },
    {
     "data": {
      "application/vnd.jupyter.widget-view+json": {
       "model_id": "1459eb13b36a44158506fa6bcada8deb",
       "version_major": 2,
       "version_minor": 0
      },
      "text/plain": [
       "  0%|          | 0/11 [00:00<?, ?it/s]"
      ]
     },
     "metadata": {},
     "output_type": "display_data"
    }
   ],
   "source": [
    "draw_layer(img, layers)"
   ]
  }
 ],
 "metadata": {
  "kernelspec": {
   "display_name": "Python [conda env:dialoglue] *",
   "language": "python",
   "name": "conda-env-dialoglue-py"
  },
  "language_info": {
   "codemirror_mode": {
    "name": "ipython",
    "version": 3
   },
   "file_extension": ".py",
   "mimetype": "text/x-python",
   "name": "python",
   "nbconvert_exporter": "python",
   "pygments_lexer": "ipython3",
   "version": "3.6.13"
  }
 },
 "nbformat": 4,
 "nbformat_minor": 5
}
