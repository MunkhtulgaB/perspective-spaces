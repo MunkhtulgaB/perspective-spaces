{
 "cells": [
  {
   "cell_type": "markdown",
   "id": "c50ab3ac",
   "metadata": {},
   "source": [
    "# Perspective spaces"
   ]
  },
  {
   "cell_type": "markdown",
   "id": "362abd71",
   "metadata": {},
   "source": [
    "## Basic setup"
   ]
  },
  {
   "cell_type": "markdown",
   "id": "7727d14e",
   "metadata": {},
   "source": [
    "Utils"
   ]
  },
  {
   "cell_type": "code",
   "execution_count": 1,
   "id": "39bf9d6c",
   "metadata": {},
   "outputs": [],
   "source": [
    "from PIL import Image, ImageFont\n",
    "\n",
    "\n",
    "class Depiction:\n",
    "    def __init__(self, layer, style, subject, img_src):\n",
    "        self.layer = layer\n",
    "        self.style = style\n",
    "        self.subject = subject\n",
    "        self.x = None\n",
    "        self.y = None\n",
    "        self.resize_ratio = 0\n",
    "        \n",
    "        self.img_src = img_src\n",
    "        self.img = Image.open(img_src)\n",
    "        \n",
    "    def __str__(self):\n",
    "        return \"{} {} (layer {})\".format(self.style, self.subject, self.layer)\n",
    "    \n",
    "    def __repr__(self):\n",
    "        return \"{} {} (layer {})\".format(self.style, self.subject, self.layer)"
   ]
  },
  {
   "cell_type": "code",
   "execution_count": 2,
   "id": "e0422965",
   "metadata": {},
   "outputs": [],
   "source": [
    "def draw_rect(img, pos1, pos2, color=\"grey\"):\n",
    "    x1, y1 = pos1  \n",
    "    x2, y2 = pos2\n",
    "    img_border = ImageDraw.Draw(img) \n",
    "    shape = [(x1, y1), (x2, y2)]\n",
    "    img_border.rectangle(shape, outline=color, width=80)\n",
    "    \n",
    "def draw_text(img, pos, text):\n",
    "    x, y = pos\n",
    "    draw = ImageDraw.Draw(img)\n",
    "    font = ImageFont.truetype(\"Gidole-Regular.ttf\", size=100)\n",
    "    draw.text((x, y), text, font = font, align =\"left\", fill=\"black\") \n",
    "    \n",
    "def is_collided(rect1, rect2):\n",
    "    x1, y1, w1, h1 = rect1\n",
    "    x2, y2, w2, h2 = rect2\n",
    "    \n",
    "    c1 = np.array([x1 + w1/2, y1 + h1/2])\n",
    "    c2 = np.array([x2 + w2/2, y2 + h2/2])\n",
    "\n",
    "    dx = np.abs(c1 - c2)[0]\n",
    "    dy = np.abs(c1 - c2)[1]\n",
    "        \n",
    "    return dx < (w1/2 + w2/2) and dy < (h1/2 + h2/2)"
   ]
  },
  {
   "cell_type": "code",
   "execution_count": 3,
   "id": "1d8c878c",
   "metadata": {},
   "outputs": [],
   "source": [
    "def save_img(img, fpath, resize_ratio=1):\n",
    "    w, h = img.size\n",
    "    resized = img.resize((int(w*resize_ratio), int(h*resize_ratio)))\n",
    "    resized.save(fpath)"
   ]
  },
  {
   "cell_type": "markdown",
   "id": "ba7d0d40",
   "metadata": {},
   "source": [
    "Load depictions from image files"
   ]
  },
  {
   "cell_type": "code",
   "execution_count": 4,
   "id": "2978c40d",
   "metadata": {},
   "outputs": [],
   "source": [
    "# load all images\n",
    "import os\n",
    "\n",
    "\n",
    "depictions = []\n",
    "\n",
    "for dir, subdirs, files in os.walk('./'):\n",
    "    if not subdirs and not dir.startswith(\"./.\"):\n",
    "        for file in files:\n",
    "            # print(os.path.join(dir, file))\n",
    "            layer = int(dir[-1])\n",
    "            style = file.replace(\".png\", \"\").split(\",\")[-1].replace(\"art\", \"\").strip()\n",
    "            \n",
    "            if \"ukiyo-e\" in file:\n",
    "                subject = file.split(\"-\")[-2].split(\",\")[0].strip()\n",
    "            else:\n",
    "                subject = file.split(\"-\")[-1].split(\",\")[0].strip()\n",
    "\n",
    "            depiction = Depiction(layer, style, subject, os.path.join(dir, file))\n",
    "            depictions.append(depiction)"
   ]
  },
  {
   "cell_type": "code",
   "execution_count": 5,
   "id": "c8fc560c",
   "metadata": {},
   "outputs": [],
   "source": [
    "depictions = sorted(depictions, key=lambda x: x.layer, reverse=False)"
   ]
  },
  {
   "cell_type": "code",
   "execution_count": 6,
   "id": "01e48c83",
   "metadata": {},
   "outputs": [
    {
     "data": {
      "text/plain": [
       "111"
      ]
     },
     "execution_count": 6,
     "metadata": {},
     "output_type": "execute_result"
    }
   ],
   "source": [
    "len(depictions)"
   ]
  },
  {
   "cell_type": "markdown",
   "id": "f729ff4d",
   "metadata": {},
   "source": [
    "## Image creation"
   ]
  },
  {
   "cell_type": "markdown",
   "id": "2a8c3383",
   "metadata": {
    "heading_collapsed": true
   },
   "source": [
    "### Background layers"
   ]
  },
  {
   "cell_type": "markdown",
   "id": "21c0b82e",
   "metadata": {
    "hidden": true
   },
   "source": [
    "First, make an empty canvas\n",
    "\n",
    "A1 in pixels is: 7,016 x 9,933"
   ]
  },
  {
   "cell_type": "code",
   "execution_count": 7,
   "id": "3b0dbbb3",
   "metadata": {
    "hidden": true
   },
   "outputs": [],
   "source": [
    "from PIL import Image, ImageDraw\n",
    "\n",
    "WIDTH = 7016\n",
    "HEIGHT = 9933\n",
    "\n",
    "img = Image.new(\"RGB\", (WIDTH, HEIGHT), (255, 255, 255))"
   ]
  },
  {
   "cell_type": "markdown",
   "id": "241ef394",
   "metadata": {
    "hidden": true
   },
   "source": [
    "Then, add the last 4 layers in the background"
   ]
  },
  {
   "cell_type": "markdown",
   "id": "81c1cfe0",
   "metadata": {
    "hidden": true
   },
   "source": [
    "import random # we will add randomness to size and position\n",
    "import numpy as np\n",
    "from tqdm.auto import tqdm\n",
    "\n",
    "\n",
    "random.seed(3)\n",
    "\n",
    "\n",
    "def is_collided(rect1, rect2):\n",
    "    x1, y1, w1, h1 = rect1\n",
    "    x2, y2, w2, h2 = rect2\n",
    "    \n",
    "    c1 = np.array([x1 + w1/2, y1 + h1/2])\n",
    "    c2 = np.array([x2 + w2/2, y2 + h2/2])\n",
    "\n",
    "    dx = np.abs(c1 - c2)[0]\n",
    "    dy = np.abs(c1 - c2)[1]\n",
    "        \n",
    "    return dx < (w1/2 + w2/2) and dy < (h1/2 + h2/2)\n",
    "\n",
    "for i, depiction in enumerate(tqdm(depictions)):\n",
    "    layer, style= depiction.layer, depiction.style\n",
    "    \n",
    "    if layer > 4:\n",
    "        im = depiction.img\n",
    "        \n",
    "        # resize\n",
    "        resize_ratio = 1 - layer * 0.08\n",
    "        orig_w, orig_h = im.size\n",
    "        new_w, new_h = int(orig_w * resize_ratio), int(orig_h * resize_ratio)\n",
    "        im = im.resize((new_w, new_h))\n",
    "        \n",
    "        # assign random position in a center square\n",
    "        center_size = 500\n",
    "        x = random.randint(0, WIDTH) #int(WIDTH/2 + random.randint(-center_size, center_size))\n",
    "        y = random.randint(0, HEIGHT) #int(HEIGHT/2 + random.randint(-center_size, center_size))\n",
    "        print(x,y)\n",
    "        \n",
    "        # define the no-go zone\n",
    "        tightness = 8 - layer\n",
    "        no_go_zone_x, no_go_zone_y = tightness * int(WIDTH / 8), tightness * int(HEIGHT / 8)\n",
    "        no_go_zone_w, no_go_zone_h = int(WIDTH / 8) * (8-tightness*2), int(HEIGHT / 8) * (8-tightness*2)\n",
    "        no_go_zone = (no_go_zone_x, no_go_zone_y, no_go_zone_w, no_go_zone_h)\n",
    "#         draw_rect(img, (no_go_zone_x, no_go_zone_y), (no_go_zone_x+no_go_zone_w, no_go_zone_y+no_go_zone_h), \"green\")\n",
    "        \n",
    "        directions = [(1,1), \n",
    "                      (1, -1), \n",
    "                      (-1, 1), \n",
    "                      (-1, -1)]\n",
    "        direction = random.choice(directions)\n",
    "        print(direction)\n",
    "        speed = 100\n",
    "        \n",
    "        depiction_rect = (x,y, new_w, new_h)\n",
    "        while is_collided(depiction_rect, no_go_zone):\n",
    "            x += direction[0] * speed\n",
    "            y += direction[1] * speed\n",
    "            depiction_rect = (x,y, new_w, new_h)\n",
    "        print(depiction_rect)\n",
    "    \n",
    "        img.paste(im, (x, y))\n",
    "#         draw_text(img, (x,y), str(depiction))"
   ]
  },
  {
   "cell_type": "markdown",
   "id": "874fd1dd",
   "metadata": {},
   "source": [
    "### Inner square"
   ]
  },
  {
   "cell_type": "markdown",
   "id": "78655892",
   "metadata": {},
   "source": [
    "Second lastly, draw the inner square\n",
    "\n",
    "Use #ff0000 for inner red border"
   ]
  },
  {
   "cell_type": "raw",
   "id": "76f9f6cc",
   "metadata": {},
   "source": [
    "WIDTH_INNER = 1770\n",
    "HEIGHT_INNER = 1770\n",
    "\n",
    "inner_center_x = WIDTH_INNER / 2\n",
    "outer_center_x = WIDTH / 2\n",
    "inner_center_y = HEIGHT_INNER / 2\n",
    "outer_center_y = HEIGHT / 2\n",
    "\n",
    "img_inner = Image.new(\"RGB\", (WIDTH_INNER, HEIGHT_INNER), (255, 255, 255))"
   ]
  },
  {
   "cell_type": "raw",
   "id": "39127089",
   "metadata": {},
   "source": [
    "draw_rect(img_inner, (0, 0), (WIDTH_INNER, HEIGHT_INNER), \"#ff0000\")\n",
    "# draw_rect(img, (0,0), (WIDTH, HEIGHT), \"#4472c4\")\n",
    "# img.paste(img_inner, (int(outer_center_x - inner_center_x), int(outer_center_y - inner_center_y)))\n",
    "\n",
    "# save_img(img, \"0.jpg\", resize_ratio=0.2)"
   ]
  },
  {
   "cell_type": "raw",
   "id": "daa09405",
   "metadata": {},
   "source": [
    "from tqdm.auto import tqdm\n",
    "\n",
    "\n",
    "layer_zeros = [d for d in depictions if d.layer == 0 and d.subject != \"dog\"]\n",
    "center_piece = [d for d in depictions if d.layer == 0 and d.subject == \"dog\"][0]\n",
    "\n",
    "layer_zeros.insert(4, center_piece)\n",
    "\n",
    "for i, depiction in enumerate(tqdm(layer_zeros)):\n",
    "    layer, style= depiction.layer, depiction.style\n",
    "    im = depiction.img\n",
    "    im = im.resize((int(WIDTH_INNER/3), int(HEIGHT_INNER/3)))\n",
    "    x = int(i % 3 * WIDTH_INNER/3)\n",
    "    y = int(i // 3 * HEIGHT_INNER/3)\n",
    "    img_inner.paste(im, (x, y))"
   ]
  },
  {
   "cell_type": "raw",
   "id": "7301711f",
   "metadata": {},
   "source": [
    "draw_rect(img_inner, (0, 0), (WIDTH_INNER, HEIGHT_INNER), \"#ff0000\")\n",
    "draw_rect(img, (0,0), (WIDTH, HEIGHT), \"#4472c4\")\n",
    "# img.paste(img_inner, (int(outer_center_x - inner_center_x), int(outer_center_y - inner_center_y)))\n",
    "# save_img(img, \"1.jpg\", resize_ratio=0.2)"
   ]
  },
  {
   "cell_type": "code",
   "execution_count": 8,
   "id": "6fa3cad9",
   "metadata": {},
   "outputs": [],
   "source": [
    "base_image = img"
   ]
  },
  {
   "cell_type": "markdown",
   "id": "cd78b604",
   "metadata": {},
   "source": [
    "### Foreground layers"
   ]
  },
  {
   "cell_type": "code",
   "execution_count": 14,
   "id": "045625f7",
   "metadata": {},
   "outputs": [],
   "source": [
    "import random\n",
    "from tqdm.auto import tqdm\n",
    "import numpy as np\n",
    "random.seed(9)\n",
    "\n",
    "\n",
    "WIDTH_INNER = 1770\n",
    "HEIGHT_INNER = 1770\n",
    "\n",
    "inner_center_x = WIDTH_INNER / 2\n",
    "outer_center_x = WIDTH / 2\n",
    "inner_center_y = HEIGHT_INNER / 2\n",
    "outer_center_y = HEIGHT / 2\n",
    "\n",
    "img_inner = Image.new(\"RGB\", (WIDTH_INNER, HEIGHT_INNER), (255, 255, 255))\n",
    "\n",
    "\n",
    "def draw_layer(base_img, layers):\n",
    "    inner_image = Image.new(\"RGB\", (WIDTH_INNER, HEIGHT_INNER), (255, 255, 255))\n",
    "    middle_layer = 2.5\n",
    "    shift = 0.03\n",
    "    \n",
    "    print(\"Middle layer is:\", middle_layer)\n",
    "    \n",
    "    for current_layer, _ in enumerate(tqdm(layers)):\n",
    "        image = base_img.copy()\n",
    "        \n",
    "        if current_layer == 1:\n",
    "            layer_ones = [d for d in depictions if d.layer == 1 and d.subject != \"dog\"]\n",
    "            center_piece = [d for d in depictions if d.layer == 1 and d.subject == \"dog\"][0]\n",
    "\n",
    "            layer_ones.insert(4, center_piece)\n",
    "\n",
    "            for i, depiction in enumerate(layer_ones):\n",
    "                layer, style= depiction.layer, depiction.style\n",
    "                im = depiction.img\n",
    "                im = im.resize((int(WIDTH_INNER/3), int(HEIGHT_INNER/3)))\n",
    "                depiction.x = int(i % 3 * WIDTH_INNER/3)\n",
    "                depiction.y = int(i // 3 * HEIGHT_INNER/3)\n",
    "                inner_image.paste(im, (depiction.x, depiction.y))\n",
    "\n",
    "            draw_rect(inner_image, (0,0), (WIDTH_INNER, HEIGHT_INNER), \"red\")\n",
    "            image.paste(inner_image,\n",
    "                            (int(outer_center_x - inner_center_x), \n",
    "                            int(outer_center_y - inner_center_y)))\n",
    "        else:\n",
    "            # draw up to the current layer\n",
    "            for layer_no, layer in enumerate(layers[:current_layer]):\n",
    "                for i, depiction in enumerate(layer):\n",
    "                    layer, style = depiction.layer, depiction.style\n",
    "                    im = depiction.img\n",
    "\n",
    "                    # resize\n",
    "                    if depiction.resize_ratio:\n",
    "                        resize_ratio = depiction.resize_ratio\n",
    "                    else: \n",
    "                        resize_ratio = 1 + layer * (0.2 + random.uniform(-0.1, 0.1))\n",
    "                        depiction.resize_ratio = resize_ratio\n",
    "\n",
    "                    orig_w, orig_h = int(WIDTH_INNER/3), int(HEIGHT_INNER/3)\n",
    "                    new_w, new_h = int(orig_w * resize_ratio), int(orig_h * resize_ratio)\n",
    "                    im = im.resize((new_w, new_h))\n",
    "\n",
    "                    # position\n",
    "                    if not depiction.x or not depiction.y:\n",
    "                        # assign random position in a center square\n",
    "                        center_size = 500\n",
    "                        x = int(WIDTH/2 + random.randint(-center_size, center_size)) #random.randint(0, WIDTH) #\n",
    "                        y = int(HEIGHT/2 + random.randint(-center_size, center_size)) #random.randint(0, HEIGHT) #\n",
    "\n",
    "                        # define the no-go zone\n",
    "                        zone_width = int(WIDTH / 18) * (layer-1)\n",
    "                        zone_height = int(HEIGHT / 18) * (layer-1)\n",
    "\n",
    "                        no_go_zone_x, no_go_zone_y = WIDTH/2 - WIDTH_INNER/2 - zone_width, HEIGHT/2 - HEIGHT_INNER/2 - zone_height\n",
    "                        no_go_zone_w, no_go_zone_h = WIDTH_INNER + zone_width*2, HEIGHT_INNER + zone_height*2\n",
    "                        no_go_zone = (no_go_zone_x, no_go_zone_y, no_go_zone_w, no_go_zone_h)\n",
    "#                       draw_rect(img, (no_go_zone_x, no_go_zone_y), (no_go_zone_x+no_go_zone_w, no_go_zone_y+no_go_zone_h), \"green\")\n",
    "\n",
    "                        # push out from no-go zone in random directions with random speed \n",
    "                        direction = random.uniform(-1, 1), random.uniform(-1, 1)\n",
    "                        speed = 300\n",
    "\n",
    "                        depiction_rect = (x,y, new_w, new_h)\n",
    "                        while is_collided(depiction_rect, no_go_zone):\n",
    "                            x += direction[0] * (speed + 5 * layer**3 * random.uniform(-1, 1))\n",
    "                            y += direction[1] * (speed + 5 * layer**3 * random.uniform(-1, 1))\n",
    "                            depiction_rect = (x,y, new_w, new_h)\n",
    "                        depiction.x = x\n",
    "                        depiction.y = y\n",
    "                    else:\n",
    "                        depiction.x += (layer_no - middle_layer) * new_w * shift\n",
    "\n",
    "\n",
    "                    image.paste(im, (int(depiction.x), int(depiction.y)))\n",
    "                        # draw_text(img, (x,y), str(depiction))\n",
    "    \n",
    "        # draw the inner image's border\n",
    "        border_x, border_y = int(outer_center_x - inner_center_x), int(outer_center_y - inner_center_y)\n",
    "        draw_rect(image, (border_x, border_y), \n",
    "                         (border_x + WIDTH_INNER, border_y + EIGHT_INNER), \"red\")\n",
    "        \n",
    "        # Lastly, draw outer border and save\n",
    "        draw_rect(image, (0,0), (WIDTH, HEIGHT), \"#4472c4\")\n",
    "        save_img(image, \"{}.jpg\".format(current_layer), resize_ratio=0.2)"
   ]
  },
  {
   "cell_type": "code",
   "execution_count": 10,
   "id": "94f2fd14",
   "metadata": {},
   "outputs": [],
   "source": [
    "layers = []\n",
    "for i in range(9):\n",
    "    layer = [d for d in depictions if d.layer == i]\n",
    "    layers.append(layer)"
   ]
  },
  {
   "cell_type": "code",
   "execution_count": 11,
   "id": "6ab24b5c",
   "metadata": {},
   "outputs": [
    {
     "name": "stdout",
     "output_type": "stream",
     "text": [
      "Middle layer is: 2.5\n"
     ]
    },
    {
     "data": {
      "application/vnd.jupyter.widget-view+json": {
       "model_id": "263530207b9c471c8e7975d5c7d8d41c",
       "version_major": 2,
       "version_minor": 0
      },
      "text/plain": [
       "  0%|          | 0/9 [00:00<?, ?it/s]"
      ]
     },
     "metadata": {},
     "output_type": "display_data"
    }
   ],
   "source": [
    "draw_layer(img, layers)"
   ]
  },
  {
   "cell_type": "code",
   "execution_count": 12,
   "id": "dafb9fa6",
   "metadata": {},
   "outputs": [],
   "source": [
    "# for i, layer in enumerate(layers):\n",
    "#     img = base_image.copy()\n",
    "    \n",
    "#     # first draw previous layers but with steps\n",
    "#     for prev_layer in layers[:i]:\n",
    "\n"
   ]
  },
  {
   "cell_type": "code",
   "execution_count": 13,
   "id": "ee29e6d3",
   "metadata": {},
   "outputs": [],
   "source": [
    "# final save\n",
    "draw_rect(img, (0,0), (WIDTH, HEIGHT), \"#4472c4\")\n",
    "save_img(img, \"draft3.jpg\", resize_ratio=0.2)"
   ]
  },
  {
   "cell_type": "code",
   "execution_count": null,
   "id": "b819bcde",
   "metadata": {},
   "outputs": [],
   "source": []
  }
 ],
 "metadata": {
  "kernelspec": {
   "display_name": "Python [conda env:dialoglue] *",
   "language": "python",
   "name": "conda-env-dialoglue-py"
  },
  "language_info": {
   "codemirror_mode": {
    "name": "ipython",
    "version": 3
   },
   "file_extension": ".py",
   "mimetype": "text/x-python",
   "name": "python",
   "nbconvert_exporter": "python",
   "pygments_lexer": "ipython3",
   "version": "3.6.13"
  }
 },
 "nbformat": 4,
 "nbformat_minor": 5
}
